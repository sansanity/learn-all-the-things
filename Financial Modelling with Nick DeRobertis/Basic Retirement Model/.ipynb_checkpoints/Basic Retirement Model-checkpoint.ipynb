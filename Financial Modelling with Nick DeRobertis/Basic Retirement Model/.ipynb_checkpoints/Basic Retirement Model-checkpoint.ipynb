{
 "cells": [
  {
   "cell_type": "code",
   "execution_count": 14,
   "metadata": {
    "scrolled": true
   },
   "outputs": [
    {
     "name": "stdout",
     "output_type": "stream",
     "text": [
      "36.72378438830149\n"
     ]
    }
   ],
   "source": [
    "import numpy as np\n",
    "# salary = float(input(\"Enter your salary: \"))\n",
    "# savings = float(input(\"Enter your savings rate: \"))\n",
    "# interest_rate = float(input(\"Enter your interest rate: \"))\n",
    "# desired_cash = float(input(\"Enter your desired cash: \"))\n",
    "\n",
    "#Inputs\n",
    "\n",
    "salary = 60000\n",
    "savings = 0.25\n",
    "interest_rate = 0.05\n",
    "desired_cash = 1500000\n",
    "\n",
    "# Calculations and Outputs\n",
    "\n",
    "def calculate_annual_cash():\n",
    "    global annual_cash\n",
    "    annual_cash = salary * savings\n",
    "\n",
    "def years_to_retirement():\n",
    "#     return np.log(desired_cash / annual_cash) / np.log(1 + interest_rate)\n",
    "    return np.nper(rate = interest_rate, pmt = -annual_cash, fv = desired_cash, pv = 0)\n",
    "\n",
    "calculate_annual_cash()\n",
    "annual_cash\n",
    "print(years_to_retirement())"
   ]
  },
  {
   "cell_type": "code",
   "execution_count": 15,
   "metadata": {},
   "outputs": [
    {
     "ename": "SyntaxError",
     "evalue": "EOL while scanning string literal (<ipython-input-15-c2cb48f930ca>, line 1)",
     "output_type": "error",
     "traceback": [
      "\u001b[1;36m  File \u001b[1;32m\"<ipython-input-15-c2cb48f930ca>\"\u001b[1;36m, line \u001b[1;32m1\u001b[0m\n\u001b[1;33m    print(f\"You have {years_to_retirement():.1f} years to retirement)\u001b[0m\n\u001b[1;37m                                                                     ^\u001b[0m\n\u001b[1;31mSyntaxError\u001b[0m\u001b[1;31m:\u001b[0m EOL while scanning string literal\n"
     ]
    }
   ],
   "source": [
    "print(f\"You have {years_to_retirement():.1f} years to retirement\")"
   ]
  },
  {
   "cell_type": "code",
   "execution_count": null,
   "metadata": {},
   "outputs": [],
   "source": []
  }
 ],
 "metadata": {
  "kernelspec": {
   "display_name": "Python 3",
   "language": "python",
   "name": "python3"
  },
  "language_info": {
   "codemirror_mode": {
    "name": "ipython",
    "version": 3
   },
   "file_extension": ".py",
   "mimetype": "text/x-python",
   "name": "python",
   "nbconvert_exporter": "python",
   "pygments_lexer": "ipython3",
   "version": "3.7.4"
  }
 },
 "nbformat": 4,
 "nbformat_minor": 2
}
