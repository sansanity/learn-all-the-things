{
 "cells": [
  {
   "cell_type": "markdown",
   "metadata": {},
   "source": [
    "# Basic Model"
   ]
  },
  {
   "cell_type": "code",
   "execution_count": 14,
   "metadata": {
    "scrolled": true
   },
   "outputs": [
    {
     "name": "stdout",
     "output_type": "stream",
     "text": [
      "36.72378438830149\n"
     ]
    }
   ],
   "source": [
    "import numpy as np\n",
    "# salary = float(input(\"Enter your salary: \"))\n",
    "# savings = float(input(\"Enter your savings rate: \"))\n",
    "# interest_rate = float(input(\"Enter your interest rate: \"))\n",
    "# desired_cash = float(input(\"Enter your desired cash: \"))\n",
    "\n",
    "#Inputs\n",
    "\n",
    "salary = 60000\n",
    "savings = 0.25\n",
    "interest_rate = 0.05\n",
    "desired_cash = 1500000\n",
    "\n",
    "# Calculations and Outputs\n",
    "\n",
    "def calculate_annual_cash():\n",
    "    global annual_cash\n",
    "    annual_cash = salary * savings\n",
    "\n",
    "def years_to_retirement():\n",
    "#     return np.log(desired_cash / annual_cash) / np.log(1 + interest_rate)\n",
    "    return np.nper(rate = interest_rate, pmt = -annual_cash, fv = desired_cash, pv = 0)\n",
    "\n",
    "calculate_annual_cash()\n",
    "annual_cash\n",
    "print(years_to_retirement())"
   ]
  },
  {
   "cell_type": "code",
   "execution_count": 16,
   "metadata": {},
   "outputs": [
    {
     "name": "stdout",
     "output_type": "stream",
     "text": [
      "You have 36.7 years to retirement\n"
     ]
    }
   ],
   "source": [
    "print(f\"You have {years_to_retirement():.1f} years to retirement\")"
   ]
  },
  {
   "cell_type": "markdown",
   "metadata": {},
   "source": [
    "# Basic Model + Iteration"
   ]
  },
  {
   "cell_type": "code",
   "execution_count": 8,
   "metadata": {},
   "outputs": [
    {
     "name": "stdout",
     "output_type": "stream",
     "text": [
      "Martha has 70.4 years to retirement if she earns an 5% interest rate\n",
      "Martha has 62.0 years to retirement if she earns an 6% interest rate\n",
      "Martha has 55.6 years to retirement if she earns an 7% interest rate\n"
     ]
    },
    {
     "data": {
      "text/plain": [
       "[array(70.38277618), array(61.96989147), array(55.59082542)]"
      ]
     },
     "execution_count": 8,
     "metadata": {},
     "output_type": "execute_result"
    }
   ],
   "source": [
    "import numpy as np\n",
    "# salary = float(input(\"Enter your salary: \"))\n",
    "# savings = float(input(\"Enter your savings rate: \"))\n",
    "# interest_rate = float(input(\"Enter your interest rate: \"))\n",
    "# desired_cash = float(input(\"Enter your desired cash: \"))\n",
    "\n",
    "#Inputs\n",
    "\n",
    "salary = 10000\n",
    "savings = 0.25\n",
    "desired_cash = 1500000\n",
    "interest_rates = [0.05, 0.06, 0.07]\n",
    "output = []\n",
    "\n",
    "# Calculations and Outputs\n",
    "\n",
    "def calculate_annual_cash():\n",
    "    global annual_cash\n",
    "    annual_cash = salary * savings\n",
    "\n",
    "# Checking the respective retirement ages for each interest rate\n",
    "def years_to_retirement():\n",
    "    for x in interest_rates:\n",
    "        output.append(np.nper(rate = x, pmt = -annual_cash, fv = desired_cash, pv = 0))\n",
    "        years = np.nper(rate = x, pmt = -annual_cash, fv = desired_cash, pv = 0)\n",
    "        print(f\"Martha has {years:.1f} years to retirement if she earns an {x:.0%} interest rate\")\n",
    "calculate_annual_cash()\n",
    "annual_cash\n",
    "years_to_retirement()\n",
    "output"
   ]
  },
  {
   "cell_type": "markdown",
   "metadata": {},
   "source": [
    "# Basic Model with 2 Concurrent Iterations"
   ]
  },
  {
   "cell_type": "code",
   "execution_count": 14,
   "metadata": {},
   "outputs": [
    {
     "name": "stdout",
     "output_type": "stream",
     "text": [
      "Martha has 88.8 years to retirement if she earns an 5% interest rate with a savings rate of 10%.\n",
      "Martha has 77.4 years to retirement if she earns an 6% interest rate with a savings rate of 10%.\n",
      "Martha has 68.9 years to retirement if she earns an 7% interest rate with a savings rate of 10%.\n",
      "Martha has 70.4 years to retirement if she earns an 5% interest rate with a savings rate of 25%.\n",
      "Martha has 62.0 years to retirement if she earns an 6% interest rate with a savings rate of 25%.\n",
      "Martha has 55.6 years to retirement if she earns an 7% interest rate with a savings rate of 25%.\n",
      "Martha has 61.1 years to retirement if she earns an 5% interest rate with a savings rate of 40%.\n",
      "Martha has 54.2 years to retirement if she earns an 6% interest rate with a savings rate of 40%.\n",
      "Martha has 48.8 years to retirement if she earns an 7% interest rate with a savings rate of 40%.\n"
     ]
    }
   ],
   "source": [
    "import numpy as np\n",
    "# salary = float(input(\"Enter your salary: \"))\n",
    "# savings = float(input(\"Enter your savings rate: \"))\n",
    "# interest_rate = float(input(\"Enter your interest rate: \"))\n",
    "# desired_cash = float(input(\"Enter your desired cash: \"))\n",
    "\n",
    "#Inputs\n",
    "\n",
    "salary = 10000\n",
    "savings = 0.25\n",
    "desired_cash = 1500000\n",
    "interest_rates = [0.05, 0.06, 0.07]\n",
    "savings_list = [0.10, 0.25, 0.4]\n",
    "annual_cash_list = []\n",
    "output = []\n",
    "\n",
    "# Calculations and Outputs\n",
    "\n",
    "for saving in savings_list:\n",
    "    annual_cash = salary * saving\n",
    "    for rate in interest_rates:\n",
    "        years = np.nper(rate = rate, pmt = -annual_cash, fv = desired_cash, pv = 0)\n",
    "        print(f\"Martha has {years:.1f} years to retirement if she earns an {rate:.0%} interest rate with a savings rate of {saving:.0%}.\") \n"
   ]
  },
  {
   "cell_type": "code",
   "execution_count": null,
   "metadata": {},
   "outputs": [],
   "source": []
  }
 ],
 "metadata": {
  "kernelspec": {
   "display_name": "Python 3",
   "language": "python",
   "name": "python3"
  },
  "language_info": {
   "codemirror_mode": {
    "name": "ipython",
    "version": 3
   },
   "file_extension": ".py",
   "mimetype": "text/x-python",
   "name": "python",
   "nbconvert_exporter": "python",
   "pygments_lexer": "ipython3",
   "version": "3.7.4"
  }
 },
 "nbformat": 4,
 "nbformat_minor": 2
}
